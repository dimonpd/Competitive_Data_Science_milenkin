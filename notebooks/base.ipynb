{
 "cells": [
  {
   "cell_type": "code",
   "execution_count": 1,
   "metadata": {},
   "outputs": [],
   "source": [
    "try:\n",
    "    %load_ext cudf.pandas\n",
    "    import pandas as pd\n",
    "\n",
    "    print(\"CUDA acceleration is enabled.\")\n",
    "except ImportError:\n",
    "    (\"Running without CUDA acceleration\")\n"
   ]
  },
  {
   "cell_type": "code",
   "execution_count": 5,
   "metadata": {},
   "outputs": [],
   "source": [
    "from dotenv import dotenv_values, load_dotenv\n",
    "\n",
    "from scipy.spatial.distance import pdist, squareform\n",
    "from itertools import combinations\n",
    "from collections import Counter\n",
    "import numpy as np\n",
    "from sklearn.cluster import KMeans\n",
    "from sqlalchemy import create_engine, text\n",
    "import polars as pl\n",
    "import polars.selectors as cs\n",
    "import os\n",
    "\n",
    "import matplotlib.pyplot as plt\n",
    "import polars as pl\n",
    "import seaborn as sns\n",
    "import pyarrow as pa\n",
    "import pandas as pd\n",
    "import plotly.express as px\n",
    "import psycopg\n",
    "\n",
    "# from download_from_S3 import get_data_s3"
   ]
  },
  {
   "cell_type": "code",
   "execution_count": 2,
   "metadata": {},
   "outputs": [
    {
     "data": {
      "text/plain": [
       "polars.config.Config"
      ]
     },
     "execution_count": 2,
     "metadata": {},
     "output_type": "execute_result"
    }
   ],
   "source": [
    "import warnings\n",
    "\n",
    "# Suppress the specific warning about GPU-accelerated mergesort\n",
    "warnings.filterwarnings(\n",
    "    \"ignore\", message=\"GPU-accelerated mergesort is currently not supported\"\n",
    ")\n",
    "pd.set_option(\"display.float_format\", lambda x: \"{:,.2f}\".format(x))\n",
    "pd.set_option(\"display.max_columns\", None)\n",
    "# pd.set_option('display.max_rows', 20)\n",
    "pd.set_option(\"display.width\", None)\n",
    "\n",
    "\n",
    "# Set global configuration for number formatting\n",
    "pl.Config.set_fmt_str_lengths(100)  # For longer string display\n",
    "pl.Config.set_tbl_formatting(\"UTF8_FULL_CONDENSED\")\n",
    "pl.Config.set_tbl_cell_numeric_alignment(\"RIGHT\")\n",
    "pl.Config.set_tbl_rows(20)\n",
    "pl.Config.set_thousands_separator(\",\")  # Set thousands separator\n",
    "pl.Config.set_float_precision(2)  # Set decimal places"
   ]
  },
  {
   "cell_type": "code",
   "execution_count": null,
   "metadata": {},
   "outputs": [],
   "source": []
  },
  {
   "cell_type": "code",
   "execution_count": 3,
   "metadata": {},
   "outputs": [],
   "source": [
    "%load_ext autoreload\n",
    "%autoreload 2\n"
   ]
  },
  {
   "cell_type": "code",
   "execution_count": 4,
   "metadata": {},
   "outputs": [],
   "source": [
    "# load_dotenv(\"instance.env\")\n",
    "# connection_string = f\"postgresql://{os.getenv('user')}:{os.getenv('password')}@{os.getenv('host')}:{os.getenv('port')}/{os.getenv('database')}\"\n",
    "# conn = psycopg.connect(connection_string)\n"
   ]
  },
  {
   "cell_type": "code",
   "execution_count": 5,
   "metadata": {},
   "outputs": [],
   "source": [
    "# def query_to_polars(conn, query):\n",
    "#     df = pl.read_database(query, connection=conn)\n",
    "#     return df"
   ]
  },
  {
   "cell_type": "code",
   "execution_count": 1,
   "metadata": {},
   "outputs": [],
   "source": [
    "import numpy as np\n",
    "\n",
    "def cumulative_mean_2d(A):\n",
    "    \"\"\"  \n",
    "    A: np.array[num_row, num_column]        --- матрица-аргумент\n",
    "    return S: np.array[num_row, num_column] --- выходная матрица кумулятивных сумм\n",
    "\n",
    "    Функция принимает на вход матрицу A размерностью n x m и возвращает \n",
    "    матрицу с той же размерностью n x m, i-ая строчка которой есть последовательность \n",
    "    кумулятивных сумм элементов i-ой строки матрицы A\n",
    "    \"\"\"\n",
    "    # Вычисляем кумулятивные суммы по строкам\n",
    "    cumsum = np.cumsum(A, axis=1)\n",
    "    \n",
    "    # Создаем массив индексов от 1 до количества столбцов \n",
    "    indices = np.arange(1, A.shape[1] + 1)\n",
    "    \n",
    "    # Делим каждый элемент на его позицию для получения среднего\n",
    "    result = cumsum / indices\n",
    "    \n",
    "    return result"
   ]
  },
  {
   "cell_type": "code",
   "execution_count": 8,
   "metadata": {},
   "outputs": [
    {
     "name": "stdout",
     "output_type": "stream",
     "text": [
      "[[1.  1.5 2. ]\n",
      " [4.  4.5 5. ]]\n"
     ]
    }
   ],
   "source": [
    "X = np.array([[1, 2, 3],\n",
    "              [4, 5, 6]])\n",
    "print(cumulative_mean_2d(X))"
   ]
  },
  {
   "cell_type": "code",
   "execution_count": 9,
   "metadata": {},
   "outputs": [
    {
     "data": {
      "text/plain": [
       "array([[1, 2, 3],\n",
       "       [4, 5, 6]])"
      ]
     },
     "execution_count": 9,
     "metadata": {},
     "output_type": "execute_result"
    }
   ],
   "source": [
    "X"
   ]
  },
  {
   "cell_type": "code",
   "execution_count": 15,
   "metadata": {},
   "outputs": [],
   "source": [
    "a = np.cumsum(X, axis = 1)"
   ]
  },
  {
   "cell_type": "code",
   "execution_count": 16,
   "metadata": {},
   "outputs": [
    {
     "data": {
      "text/plain": [
       "array([[ 1,  3,  6],\n",
       "       [ 4,  9, 15]])"
      ]
     },
     "execution_count": 16,
     "metadata": {},
     "output_type": "execute_result"
    }
   ],
   "source": [
    "a"
   ]
  },
  {
   "cell_type": "code",
   "execution_count": 13,
   "metadata": {},
   "outputs": [],
   "source": [
    "b = np.arange(1, X.shape[1] + 1)"
   ]
  },
  {
   "cell_type": "code",
   "execution_count": 17,
   "metadata": {},
   "outputs": [
    {
     "data": {
      "text/plain": [
       "array([[1. , 1.5, 2. ],\n",
       "       [4. , 4.5, 5. ]])"
      ]
     },
     "execution_count": 17,
     "metadata": {},
     "output_type": "execute_result"
    }
   ],
   "source": [
    "a/b"
   ]
  },
  {
   "cell_type": "code",
   "execution_count": 32,
   "metadata": {},
   "outputs": [
    {
     "name": "stdout",
     "output_type": "stream",
     "text": [
      "[27  1 64  1  8  1  0]\n"
     ]
    }
   ],
   "source": [
    "import numpy as np\n",
    "\n",
    "def transform(X):\n",
    "    \"\"\"\n",
    "    Transform array X according to rules:\n",
    "    1. Replace elements with odd indices with 1\n",
    "    2. Cube elements with even indices\n",
    "    3. Reverse the array\n",
    "    \n",
    "    Parameters:\n",
    "        X: np.array - input array\n",
    "        \n",
    "    Returns:\n",
    "        np.array - transformed array\n",
    "    \"\"\"\n",
    "    Y = X.copy()\n",
    "    Y[1::2] = 1\n",
    "    Y[0::2] = Y[0::2] ** 3\n",
    "    # Y = Y[::-1]\n",
    "    return Y\n",
    "\n",
    "# Пример работы функции\n",
    "X = np.array([3, 1, 4, -1, 2, 3, 0])\n",
    "Y = transform(X)\n",
    "print(Y)  # array([27, 1, 64, 1, 8, 1, 0])"
   ]
  },
  {
   "cell_type": "code",
   "execution_count": null,
   "metadata": {},
   "outputs": [],
   "source": [
    "X = np.array([3, 1, 4, -1, 2, 3, 0])\n",
    "\n",
    "Y = transform(X)\n"
   ]
  },
  {
   "cell_type": "code",
   "execution_count": 30,
   "metadata": {},
   "outputs": [
    {
     "data": {
      "text/plain": [
       "array([27,  1, 64,  1,  8,  1,  0])"
      ]
     },
     "execution_count": 30,
     "metadata": {},
     "output_type": "execute_result"
    }
   ],
   "source": [
    "Y"
   ]
  },
  {
   "cell_type": "code",
   "execution_count": 2,
   "metadata": {},
   "outputs": [
    {
     "name": "stdout",
     "output_type": "stream",
     "text": [
      "     feature  importance\n",
      "1  feature_1    0.317169\n",
      "9  feature_9    0.186399\n",
      "8  feature_8    0.131145\n",
      "2  feature_2    0.065221\n",
      "5  feature_5    0.056419\n",
      "4  feature_4    0.056050\n",
      "3  feature_3    0.052793\n",
      "7  feature_7    0.051142\n",
      "6  feature_6    0.046598\n",
      "0  feature_0    0.037065\n",
      "answer_list = [1, 9, 8, 2, 5, 4, 3, 7, 6, 0]\n"
     ]
    }
   ],
   "source": [
    "import pandas as pd\n",
    "from sklearn.ensemble import RandomForestClassifier\n",
    "from sklearn.model_selection import train_test_split\n",
    "\n",
    "# Загрузка данных\n",
    "url = \"https://stepik.org/media/attachments/lesson/779915/fs_task1_10f.csv\"\n",
    "data = pd.read_csv(url)\n",
    "\n",
    "# Разделение данных на признаки и целевую переменную\n",
    "X = data.drop('target', axis=1)\n",
    "y = data['target']\n",
    "\n",
    "# Разделение данных на обучающую и тестовую выборки\n",
    "X_train, X_test, y_train, y_test = train_test_split(X, y, test_size=0.2, random_state=42)\n",
    "\n",
    "# Обучение модели Random Forest\n",
    "model = RandomForestClassifier(random_state=42)\n",
    "model.fit(X_train, y_train)\n",
    "\n",
    "# Получение важности признаков\n",
    "importances = model.feature_importances_\n",
    "\n",
    "# Создание DataFrame для удобства\n",
    "feature_importances = pd.DataFrame({'feature': X.columns, 'importance': importances})\n",
    "feature_importances = feature_importances.sort_values(by='importance', ascending=False)\n",
    "\n",
    "# Вывод важности признаков\n",
    "print(feature_importances)\n",
    "\n",
    "# Формирование списка answer_list\n",
    "answer_list = feature_importances.index.tolist()\n",
    "print(\"answer_list =\", answer_list)"
   ]
  },
  {
   "cell_type": "code",
   "execution_count": 3,
   "metadata": {},
   "outputs": [
    {
     "data": {
      "text/plain": [
       "[1, 9, 8, 2, 5, 4, 3, 7, 6, 0]"
      ]
     },
     "execution_count": 3,
     "metadata": {},
     "output_type": "execute_result"
    }
   ],
   "source": [
    "answer_list"
   ]
  },
  {
   "cell_type": "code",
   "execution_count": 7,
   "metadata": {},
   "outputs": [],
   "source": [
    "df = pl.read_csv('https://stepik.org/media/attachments/lesson/779915/fs_task2_22f.csv')"
   ]
  },
  {
   "cell_type": "code",
   "execution_count": 8,
   "metadata": {},
   "outputs": [
    {
     "data": {
      "text/html": [
       "<div><style>\n",
       ".dataframe > thead > tr,\n",
       ".dataframe > tbody > tr {\n",
       "  text-align: right;\n",
       "  white-space: pre-wrap;\n",
       "}\n",
       "</style>\n",
       "<small>shape: (1_870, 22)</small><table border=\"1\" class=\"dataframe\"><thead><tr><th>feature_0</th><th>feature_1</th><th>feature_2</th><th>feature_3</th><th>feature_4</th><th>feature_5</th><th>feature_6</th><th>feature_7</th><th>feature_8</th><th>feature_9</th><th>feature_10</th><th>feature_11</th><th>feature_12</th><th>feature_13</th><th>feature_14</th><th>feature_15</th><th>feature_16</th><th>feature_17</th><th>feature_18</th><th>feature_19</th><th>target_reg</th><th>target_class</th></tr><tr><td>i64</td><td>f64</td><td>i64</td><td>i64</td><td>f64</td><td>i64</td><td>f64</td><td>f64</td><td>i64</td><td>i64</td><td>i64</td><td>i64</td><td>i64</td><td>f64</td><td>i64</td><td>f64</td><td>i64</td><td>i64</td><td>i64</td><td>f64</td><td>f64</td><td>str</td></tr></thead><tbody><tr><td>0</td><td>4.101552</td><td>173</td><td>1</td><td>3.405865</td><td>88182</td><td>157.168032</td><td>1.9731e7</td><td>0</td><td>1</td><td>0</td><td>24</td><td>2015</td><td>191.996603</td><td>2020</td><td>0.1</td><td>0</td><td>174</td><td>9</td><td>4.76</td><td>57.15</td><td>&quot;engine_ignition&quot;</td></tr><tr><td>0</td><td>4.303506</td><td>173</td><td>1</td><td>-2.218952</td><td>86897</td><td>121.805143</td><td>1.5942e7</td><td>0</td><td>0</td><td>0</td><td>2</td><td>2015</td><td>193.547718</td><td>2015</td><td>0.1</td><td>1</td><td>174</td><td>7</td><td>4.26</td><td>60.82</td><td>&quot;engine_ignition&quot;</td></tr><tr><td>0</td><td>4.246379</td><td>174</td><td>1</td><td>-3.740321</td><td>44604</td><td>175.889164</td><td>2.1276e7</td><td>0</td><td>0</td><td>0</td><td>27</td><td>2013</td><td>177.922027</td><td>2019</td><td>0.1</td><td>1</td><td>174</td><td>6</td><td>5.98</td><td>46.51</td><td>&quot;engine_ignition&quot;</td></tr><tr><td>0</td><td>4.342874</td><td>172</td><td>1</td><td>3.139031</td><td>114610</td><td>151.653445</td><td>2.2504e7</td><td>0</td><td>0</td><td>0</td><td>49</td><td>2017</td><td>110.165268</td><td>2016</td><td>0.7</td><td>1</td><td>174</td><td>20</td><td>4.42</td><td>30.71</td><td>&quot;gear_stick&quot;</td></tr><tr><td>1</td><td>4.140287</td><td>148</td><td>0</td><td>-4.022916</td><td>114851</td><td>159.547387</td><td>1.1635e7</td><td>0</td><td>0</td><td>1</td><td>4</td><td>2017</td><td>190.915943</td><td>2020</td><td>0.1</td><td>0</td><td>174</td><td>25</td><td>4.28</td><td>59.18</td><td>&quot;engine_fuel&quot;</td></tr><tr><td>&hellip;</td><td>&hellip;</td><td>&hellip;</td><td>&hellip;</td><td>&hellip;</td><td>&hellip;</td><td>&hellip;</td><td>&hellip;</td><td>&hellip;</td><td>&hellip;</td><td>&hellip;</td><td>&hellip;</td><td>&hellip;</td><td>&hellip;</td><td>&hellip;</td><td>&hellip;</td><td>&hellip;</td><td>&hellip;</td><td>&hellip;</td><td>&hellip;</td><td>&hellip;</td><td>&hellip;</td></tr><tr><td>0</td><td>5.345345</td><td>173</td><td>1</td><td>-1.50418</td><td>42550</td><td>176.567014</td><td>1.2085e7</td><td>0</td><td>0</td><td>0</td><td>0</td><td>2013</td><td>109.83663</td><td>2018</td><td>0.1</td><td>1</td><td>174</td><td>8</td><td>1.92</td><td>31.75</td><td>&quot;break_bug&quot;</td></tr><tr><td>0</td><td>4.042874</td><td>172</td><td>1</td><td>-1.079727</td><td>65913</td><td>128.338875</td><td>1.6728e7</td><td>0</td><td>1</td><td>0</td><td>33</td><td>2014</td><td>196.975349</td><td>2016</td><td>0.1</td><td>0</td><td>174</td><td>16</td><td>3.84</td><td>50.87</td><td>&quot;engine_overheat&quot;</td></tr><tr><td>0</td><td>3.977816</td><td>174</td><td>1</td><td>-3.00148</td><td>62873</td><td>124.79559</td><td>1.8240e7</td><td>0</td><td>1</td><td>0</td><td>44</td><td>2014</td><td>179.247675</td><td>2016</td><td>0.1</td><td>0</td><td>174</td><td>14</td><td>4.04</td><td>54.3</td><td>&quot;engine_ignition&quot;</td></tr><tr><td>0</td><td>4.54092</td><td>172</td><td>1</td><td>1.771542</td><td>80826</td><td>131.57257</td><td>1.1674e7</td><td>0</td><td>0</td><td>0</td><td>43</td><td>2015</td><td>142.0</td><td>2019</td><td>0.1</td><td>1</td><td>174</td><td>5</td><td>2.22</td><td>56.62</td><td>&quot;engine_check&quot;</td></tr><tr><td>0</td><td>5.464713</td><td>174</td><td>1</td><td>-0.002251</td><td>110513</td><td>160.245456</td><td>2.1942e7</td><td>0</td><td>0</td><td>0</td><td>9</td><td>2017</td><td>109.725364</td><td>2017</td><td>0.46</td><td>1</td><td>174</td><td>17</td><td>4.26</td><td>23.12</td><td>&quot;break_bug&quot;</td></tr></tbody></table></div>"
      ],
      "text/plain": [
       "shape: (1_870, 22)\n",
       "┌───────────┬───────────┬───────────┬───────────┬───┬───────────┬───────────┬───────────┬──────────┐\n",
       "│ feature_0 ┆ feature_1 ┆ feature_2 ┆ feature_3 ┆ … ┆ feature_1 ┆ feature_1 ┆ target_re ┆ target_c │\n",
       "│ ---       ┆ ---       ┆ ---       ┆ ---       ┆   ┆ 8         ┆ 9         ┆ g         ┆ lass     │\n",
       "│ i64       ┆ f64       ┆ i64       ┆ i64       ┆   ┆ ---       ┆ ---       ┆ ---       ┆ ---      │\n",
       "│           ┆           ┆           ┆           ┆   ┆ i64       ┆ f64       ┆ f64       ┆ str      │\n",
       "╞═══════════╪═══════════╪═══════════╪═══════════╪═══╪═══════════╪═══════════╪═══════════╪══════════╡\n",
       "│ 0         ┆ 4.101552  ┆ 173       ┆ 1         ┆ … ┆ 9         ┆ 4.76      ┆ 57.15     ┆ engine_i │\n",
       "│           ┆           ┆           ┆           ┆   ┆           ┆           ┆           ┆ gnition  │\n",
       "│ 0         ┆ 4.303506  ┆ 173       ┆ 1         ┆ … ┆ 7         ┆ 4.26      ┆ 60.82     ┆ engine_i │\n",
       "│           ┆           ┆           ┆           ┆   ┆           ┆           ┆           ┆ gnition  │\n",
       "│ 0         ┆ 4.246379  ┆ 174       ┆ 1         ┆ … ┆ 6         ┆ 5.98      ┆ 46.51     ┆ engine_i │\n",
       "│           ┆           ┆           ┆           ┆   ┆           ┆           ┆           ┆ gnition  │\n",
       "│ 0         ┆ 4.342874  ┆ 172       ┆ 1         ┆ … ┆ 20        ┆ 4.42      ┆ 30.71     ┆ gear_sti │\n",
       "│           ┆           ┆           ┆           ┆   ┆           ┆           ┆           ┆ ck       │\n",
       "│ 1         ┆ 4.140287  ┆ 148       ┆ 0         ┆ … ┆ 25        ┆ 4.28      ┆ 59.18     ┆ engine_f │\n",
       "│           ┆           ┆           ┆           ┆   ┆           ┆           ┆           ┆ uel      │\n",
       "│ …         ┆ …         ┆ …         ┆ …         ┆ … ┆ …         ┆ …         ┆ …         ┆ …        │\n",
       "│ 0         ┆ 5.345345  ┆ 173       ┆ 1         ┆ … ┆ 8         ┆ 1.92      ┆ 31.75     ┆ break_bu │\n",
       "│           ┆           ┆           ┆           ┆   ┆           ┆           ┆           ┆ g        │\n",
       "│ 0         ┆ 4.042874  ┆ 172       ┆ 1         ┆ … ┆ 16        ┆ 3.84      ┆ 50.87     ┆ engine_o │\n",
       "│           ┆           ┆           ┆           ┆   ┆           ┆           ┆           ┆ verheat  │\n",
       "│ 0         ┆ 3.977816  ┆ 174       ┆ 1         ┆ … ┆ 14        ┆ 4.04      ┆ 54.3      ┆ engine_i │\n",
       "│           ┆           ┆           ┆           ┆   ┆           ┆           ┆           ┆ gnition  │\n",
       "│ 0         ┆ 4.54092   ┆ 172       ┆ 1         ┆ … ┆ 5         ┆ 2.22      ┆ 56.62     ┆ engine_c │\n",
       "│           ┆           ┆           ┆           ┆   ┆           ┆           ┆           ┆ heck     │\n",
       "│ 0         ┆ 5.464713  ┆ 174       ┆ 1         ┆ … ┆ 17        ┆ 4.26      ┆ 23.12     ┆ break_bu │\n",
       "│           ┆           ┆           ┆           ┆   ┆           ┆           ┆           ┆ g        │\n",
       "└───────────┴───────────┴───────────┴───────────┴───┴───────────┴───────────┴───────────┴──────────┘"
      ]
     },
     "execution_count": 8,
     "metadata": {},
     "output_type": "execute_result"
    }
   ],
   "source": [
    "df"
   ]
  },
  {
   "cell_type": "code",
   "execution_count": 15,
   "metadata": {},
   "outputs": [
    {
     "ename": "KeyError",
     "evalue": "\"['target'] not found in axis\"",
     "output_type": "error",
     "traceback": [
      "\u001b[0;31m---------------------------------------------------------------------------\u001b[0m",
      "\u001b[0;31mKeyError\u001b[0m                                  Traceback (most recent call last)",
      "Cell \u001b[0;32mIn[15], line 11\u001b[0m\n\u001b[1;32m      8\u001b[0m df \n\u001b[1;32m     10\u001b[0m \u001b[38;5;66;03m# Подготовка данных\u001b[39;00m\n\u001b[0;32m---> 11\u001b[0m X \u001b[38;5;241m=\u001b[39m \u001b[43mdf\u001b[49m\u001b[38;5;241;43m.\u001b[39;49m\u001b[43mdrop\u001b[49m\u001b[43m(\u001b[49m\u001b[38;5;124;43m\"\u001b[39;49m\u001b[38;5;124;43mtarget\u001b[39;49m\u001b[38;5;124;43m\"\u001b[39;49m\u001b[43m)\u001b[49m\u001b[38;5;241m.\u001b[39mto_pandas()\n\u001b[1;32m     12\u001b[0m y \u001b[38;5;241m=\u001b[39m df[\u001b[38;5;124m\"\u001b[39m\u001b[38;5;124mtarget\u001b[39m\u001b[38;5;124m\"\u001b[39m]\u001b[38;5;241m.\u001b[39mto_numpy()\n\u001b[1;32m     14\u001b[0m \u001b[38;5;66;03m# 1. Проверка корреляций с целевой переменной\u001b[39;00m\n",
      "File \u001b[0;32m~/.cache/pypoetry/virtualenvs/stepik-i2DWfOQt-py3.12/lib/python3.12/site-packages/pandas/core/frame.py:5581\u001b[0m, in \u001b[0;36mDataFrame.drop\u001b[0;34m(self, labels, axis, index, columns, level, inplace, errors)\u001b[0m\n\u001b[1;32m   5433\u001b[0m \u001b[38;5;28;01mdef\u001b[39;00m\u001b[38;5;250m \u001b[39m\u001b[38;5;21mdrop\u001b[39m(\n\u001b[1;32m   5434\u001b[0m     \u001b[38;5;28mself\u001b[39m,\n\u001b[1;32m   5435\u001b[0m     labels: IndexLabel \u001b[38;5;241m|\u001b[39m \u001b[38;5;28;01mNone\u001b[39;00m \u001b[38;5;241m=\u001b[39m \u001b[38;5;28;01mNone\u001b[39;00m,\n\u001b[0;32m   (...)\u001b[0m\n\u001b[1;32m   5442\u001b[0m     errors: IgnoreRaise \u001b[38;5;241m=\u001b[39m \u001b[38;5;124m\"\u001b[39m\u001b[38;5;124mraise\u001b[39m\u001b[38;5;124m\"\u001b[39m,\n\u001b[1;32m   5443\u001b[0m ) \u001b[38;5;241m-\u001b[39m\u001b[38;5;241m>\u001b[39m DataFrame \u001b[38;5;241m|\u001b[39m \u001b[38;5;28;01mNone\u001b[39;00m:\n\u001b[1;32m   5444\u001b[0m \u001b[38;5;250m    \u001b[39m\u001b[38;5;124;03m\"\"\"\u001b[39;00m\n\u001b[1;32m   5445\u001b[0m \u001b[38;5;124;03m    Drop specified labels from rows or columns.\u001b[39;00m\n\u001b[1;32m   5446\u001b[0m \n\u001b[0;32m   (...)\u001b[0m\n\u001b[1;32m   5579\u001b[0m \u001b[38;5;124;03m            weight  1.0     0.8\u001b[39;00m\n\u001b[1;32m   5580\u001b[0m \u001b[38;5;124;03m    \"\"\"\u001b[39;00m\n\u001b[0;32m-> 5581\u001b[0m     \u001b[38;5;28;01mreturn\u001b[39;00m \u001b[38;5;28;43msuper\u001b[39;49m\u001b[43m(\u001b[49m\u001b[43m)\u001b[49m\u001b[38;5;241;43m.\u001b[39;49m\u001b[43mdrop\u001b[49m\u001b[43m(\u001b[49m\n\u001b[1;32m   5582\u001b[0m \u001b[43m        \u001b[49m\u001b[43mlabels\u001b[49m\u001b[38;5;241;43m=\u001b[39;49m\u001b[43mlabels\u001b[49m\u001b[43m,\u001b[49m\n\u001b[1;32m   5583\u001b[0m \u001b[43m        \u001b[49m\u001b[43maxis\u001b[49m\u001b[38;5;241;43m=\u001b[39;49m\u001b[43maxis\u001b[49m\u001b[43m,\u001b[49m\n\u001b[1;32m   5584\u001b[0m \u001b[43m        \u001b[49m\u001b[43mindex\u001b[49m\u001b[38;5;241;43m=\u001b[39;49m\u001b[43mindex\u001b[49m\u001b[43m,\u001b[49m\n\u001b[1;32m   5585\u001b[0m \u001b[43m        \u001b[49m\u001b[43mcolumns\u001b[49m\u001b[38;5;241;43m=\u001b[39;49m\u001b[43mcolumns\u001b[49m\u001b[43m,\u001b[49m\n\u001b[1;32m   5586\u001b[0m \u001b[43m        \u001b[49m\u001b[43mlevel\u001b[49m\u001b[38;5;241;43m=\u001b[39;49m\u001b[43mlevel\u001b[49m\u001b[43m,\u001b[49m\n\u001b[1;32m   5587\u001b[0m \u001b[43m        \u001b[49m\u001b[43minplace\u001b[49m\u001b[38;5;241;43m=\u001b[39;49m\u001b[43minplace\u001b[49m\u001b[43m,\u001b[49m\n\u001b[1;32m   5588\u001b[0m \u001b[43m        \u001b[49m\u001b[43merrors\u001b[49m\u001b[38;5;241;43m=\u001b[39;49m\u001b[43merrors\u001b[49m\u001b[43m,\u001b[49m\n\u001b[1;32m   5589\u001b[0m \u001b[43m    \u001b[49m\u001b[43m)\u001b[49m\n",
      "File \u001b[0;32m~/.cache/pypoetry/virtualenvs/stepik-i2DWfOQt-py3.12/lib/python3.12/site-packages/pandas/core/generic.py:4788\u001b[0m, in \u001b[0;36mNDFrame.drop\u001b[0;34m(self, labels, axis, index, columns, level, inplace, errors)\u001b[0m\n\u001b[1;32m   4786\u001b[0m \u001b[38;5;28;01mfor\u001b[39;00m axis, labels \u001b[38;5;129;01min\u001b[39;00m axes\u001b[38;5;241m.\u001b[39mitems():\n\u001b[1;32m   4787\u001b[0m     \u001b[38;5;28;01mif\u001b[39;00m labels \u001b[38;5;129;01mis\u001b[39;00m \u001b[38;5;129;01mnot\u001b[39;00m \u001b[38;5;28;01mNone\u001b[39;00m:\n\u001b[0;32m-> 4788\u001b[0m         obj \u001b[38;5;241m=\u001b[39m \u001b[43mobj\u001b[49m\u001b[38;5;241;43m.\u001b[39;49m\u001b[43m_drop_axis\u001b[49m\u001b[43m(\u001b[49m\u001b[43mlabels\u001b[49m\u001b[43m,\u001b[49m\u001b[43m \u001b[49m\u001b[43maxis\u001b[49m\u001b[43m,\u001b[49m\u001b[43m \u001b[49m\u001b[43mlevel\u001b[49m\u001b[38;5;241;43m=\u001b[39;49m\u001b[43mlevel\u001b[49m\u001b[43m,\u001b[49m\u001b[43m \u001b[49m\u001b[43merrors\u001b[49m\u001b[38;5;241;43m=\u001b[39;49m\u001b[43merrors\u001b[49m\u001b[43m)\u001b[49m\n\u001b[1;32m   4790\u001b[0m \u001b[38;5;28;01mif\u001b[39;00m inplace:\n\u001b[1;32m   4791\u001b[0m     \u001b[38;5;28mself\u001b[39m\u001b[38;5;241m.\u001b[39m_update_inplace(obj)\n",
      "File \u001b[0;32m~/.cache/pypoetry/virtualenvs/stepik-i2DWfOQt-py3.12/lib/python3.12/site-packages/pandas/core/generic.py:4830\u001b[0m, in \u001b[0;36mNDFrame._drop_axis\u001b[0;34m(self, labels, axis, level, errors, only_slice)\u001b[0m\n\u001b[1;32m   4828\u001b[0m         new_axis \u001b[38;5;241m=\u001b[39m axis\u001b[38;5;241m.\u001b[39mdrop(labels, level\u001b[38;5;241m=\u001b[39mlevel, errors\u001b[38;5;241m=\u001b[39merrors)\n\u001b[1;32m   4829\u001b[0m     \u001b[38;5;28;01melse\u001b[39;00m:\n\u001b[0;32m-> 4830\u001b[0m         new_axis \u001b[38;5;241m=\u001b[39m \u001b[43maxis\u001b[49m\u001b[38;5;241;43m.\u001b[39;49m\u001b[43mdrop\u001b[49m\u001b[43m(\u001b[49m\u001b[43mlabels\u001b[49m\u001b[43m,\u001b[49m\u001b[43m \u001b[49m\u001b[43merrors\u001b[49m\u001b[38;5;241;43m=\u001b[39;49m\u001b[43merrors\u001b[49m\u001b[43m)\u001b[49m\n\u001b[1;32m   4831\u001b[0m     indexer \u001b[38;5;241m=\u001b[39m axis\u001b[38;5;241m.\u001b[39mget_indexer(new_axis)\n\u001b[1;32m   4833\u001b[0m \u001b[38;5;66;03m# Case for non-unique axis\u001b[39;00m\n\u001b[1;32m   4834\u001b[0m \u001b[38;5;28;01melse\u001b[39;00m:\n",
      "File \u001b[0;32m~/.cache/pypoetry/virtualenvs/stepik-i2DWfOQt-py3.12/lib/python3.12/site-packages/pandas/core/indexes/base.py:7070\u001b[0m, in \u001b[0;36mIndex.drop\u001b[0;34m(self, labels, errors)\u001b[0m\n\u001b[1;32m   7068\u001b[0m \u001b[38;5;28;01mif\u001b[39;00m mask\u001b[38;5;241m.\u001b[39many():\n\u001b[1;32m   7069\u001b[0m     \u001b[38;5;28;01mif\u001b[39;00m errors \u001b[38;5;241m!=\u001b[39m \u001b[38;5;124m\"\u001b[39m\u001b[38;5;124mignore\u001b[39m\u001b[38;5;124m\"\u001b[39m:\n\u001b[0;32m-> 7070\u001b[0m         \u001b[38;5;28;01mraise\u001b[39;00m \u001b[38;5;167;01mKeyError\u001b[39;00m(\u001b[38;5;124mf\u001b[39m\u001b[38;5;124m\"\u001b[39m\u001b[38;5;132;01m{\u001b[39;00mlabels[mask]\u001b[38;5;241m.\u001b[39mtolist()\u001b[38;5;132;01m}\u001b[39;00m\u001b[38;5;124m not found in axis\u001b[39m\u001b[38;5;124m\"\u001b[39m)\n\u001b[1;32m   7071\u001b[0m     indexer \u001b[38;5;241m=\u001b[39m indexer[\u001b[38;5;241m~\u001b[39mmask]\n\u001b[1;32m   7072\u001b[0m \u001b[38;5;28;01mreturn\u001b[39;00m \u001b[38;5;28mself\u001b[39m\u001b[38;5;241m.\u001b[39mdelete(indexer)\n",
      "\u001b[0;31mKeyError\u001b[0m: \"['target'] not found in axis\""
     ]
    }
   ],
   "source": [
    "import polars as pl\n",
    "import numpy as np\n",
    "from sklearn.ensemble import RandomForestClassifier\n",
    "from sklearn.inspection import permutation_importance\n",
    "from sklearn.preprocessing import LabelEncoder\n",
    "\n",
    "# Загрузка данных\n",
    "df \n",
    "\n",
    "# Подготовка данных\n",
    "X = df.drop(\"target\").to_pandas()\n",
    "y = df[\"target\"].to_numpy()\n",
    "\n",
    "# 1. Проверка корреляций с целевой переменной\n",
    "correlations = {}\n",
    "for col in X.columns:\n",
    "    correlations[col] = abs(np.corrcoef(X[col], y)[0,1])\n",
    "\n",
    "# 2. Permutation Importance\n",
    "rf = RandomForestClassifier(random_state=42)\n",
    "rf.fit(X, y)\n",
    "\n",
    "result = permutation_importance(rf, X, y, n_repeats=10, random_state=42)\n",
    "importances = pd.Series(result.importances_mean, index=X.columns)\n",
    "\n",
    "# 3. Поиск признаков с наименьшей важностью\n",
    "potential_random = set()\n",
    "\n",
    "# Добавляем признаки с очень низкой корреляцией\n",
    "corr_threshold = 0.05\n",
    "for col, corr in correlations.items():\n",
    "    if abs(corr) < corr_threshold:\n",
    "        potential_random.add(col)\n",
    "\n",
    "# Добавляем признаки с очень низкой важностью\n",
    "imp_threshold = np.percentile(importances, 10)\n",
    "for col, imp in importances.items():\n",
    "    if imp < imp_threshold:\n",
    "        potential_random.add(col)\n",
    "\n",
    "# Преобразуем в список для ответа\n",
    "answer = list(potential_random)[:2]\n",
    "print(\"answer =\", answer)"
   ]
  }
 ],
 "metadata": {
  "kernelspec": {
   "display_name": "stepik-i2DWfOQt-py3.12",
   "language": "python",
   "name": "python3"
  },
  "language_info": {
   "codemirror_mode": {
    "name": "ipython",
    "version": 3
   },
   "file_extension": ".py",
   "mimetype": "text/x-python",
   "name": "python",
   "nbconvert_exporter": "python",
   "pygments_lexer": "ipython3",
   "version": "3.12.3"
  }
 },
 "nbformat": 4,
 "nbformat_minor": 2
}
